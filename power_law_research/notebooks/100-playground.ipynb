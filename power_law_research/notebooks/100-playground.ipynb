{
 "cells": [
  {
   "cell_type": "code",
   "execution_count": 59,
   "metadata": {},
   "outputs": [],
   "source": [
    "import sys\n",
    "\n",
    "sys.path.append(\"/home/shinzato/GitHub/power-law-research/power_law_research\")\n",
    "import numpy as np\n",
    "from data_modules import FashionMNISTDataModule\n",
    "\n",
    "import pytorch_lightning as pl\n",
    "import torch\n",
    "\n",
    "\n",
    "class FashionMNISTDataModuleWhite(FashionMNISTDataModule):\n",
    "    def __init__(self, batch_size=128):\n",
    "        super().__init__(self, batch_size)\n",
    "\n",
    "    def train_dataloader(self):\n",
    "        self.zca_matrix = zca_whitening_matrix(self.train_datasets.data.view(-1, 784))\n",
    "        train_white = np.dot(self.zca_matrix, self.train_datasets.data.view(784, -1).numpy())\n",
    "        self.train_white = (\n",
    "            torch.from_numpy(train_white.astype(np.float32)).clone().view(60000, 28, 28)\n",
    "        )\n",
    "        self.dummy_label = np.zeros(60000)\n",
    "        return torch.utils.data.DataLoader(\n",
    "            dataset=(self.train_white, self.train_white), batch_size=self.batch_size, shuffle=True, num_workers=4\n",
    "        )\n",
    "\n",
    "\n",
    "def zca_whitening_matrix(X):\n",
    "    \"\"\"\n",
    "    Function to compute ZCA whitening matrix (aka Mahalanobis whitening).\n",
    "    INPUT:  X: [N x M] matrix.\n",
    "        Rows: Variables\n",
    "        Columns: Observations\n",
    "    OUTPUT: ZCAMatrix: [M x M] matrix\n",
    "    \"\"\"\n",
    "    # Covariance matrix [column-wise variables]: Sigma = (X-mu)' * (X-mu) / N\n",
    "    sigma = np.cov(X.T, rowvar=True)  # [M x M]\n",
    "    # Singular Value Decomposition. X = U * np.diag(S) * V\n",
    "    U, S, V = np.linalg.svd(sigma)\n",
    "    # U: [M x M] eigenvectors of sigma.\n",
    "    # S: [M x 1] eigenvalues of sigma.\n",
    "    # V: [M x M] transpose of U\n",
    "    # Whitening constant: prevents division by zero\n",
    "    epsilon = 1e-8\n",
    "    # ZCA Whitening matrix: U * Lambda * U'\n",
    "    ZCAMatrix = np.dot(U, np.dot(np.diag(1.0 / np.sqrt(S + epsilon)), U.T))  # [M x M]\n",
    "    return ZCAMatrix\n"
   ]
  },
  {
   "cell_type": "code",
   "execution_count": 3,
   "metadata": {},
   "outputs": [],
   "source": [
    "data_module = FashionMNISTDataModule(batch_size=128)"
   ]
  },
  {
   "cell_type": "code",
   "execution_count": 10,
   "metadata": {},
   "outputs": [
    {
     "ename": "AttributeError",
     "evalue": "'function' object has no attribute 'datasets'",
     "output_type": "error",
     "traceback": [
      "\u001b[0;31m---------------------------------------------------------------------------\u001b[0m",
      "\u001b[0;31mAttributeError\u001b[0m                            Traceback (most recent call last)",
      "\u001b[1;32mセル3 を /home/shinzato/GitHub/power-law-research/power_law_research/notebooks/100-playground.ipynb\u001b[0m in \u001b[0;36m<cell line: 1>\u001b[0;34m()\u001b[0m\n\u001b[0;32m----> <a href='vscode-notebook-cell://ssh-remote%2Bremote-euler/home/shinzato/GitHub/power-law-research/power_law_research/notebooks/100-playground.ipynb#W3sdnNjb2RlLXJlbW90ZQ%3D%3D?line=0'>1</a>\u001b[0m data_module\u001b[39m.\u001b[39;49mtrain_dataloader\u001b[39m.\u001b[39;49mdatasets\n",
      "\u001b[0;31mAttributeError\u001b[0m: 'function' object has no attribute 'datasets'"
     ]
    }
   ],
   "source": [
    "data_module.train_dataloader.datasets\n"
   ]
  },
  {
   "cell_type": "code",
   "execution_count": 61,
   "metadata": {},
   "outputs": [
    {
     "name": "stderr",
     "output_type": "stream",
     "text": [
      "GPU available: True, used: True\n",
      "TPU available: False, using: 0 TPU cores\n",
      "IPU available: False, using: 0 IPUs\n",
      "HPU available: False, using: 0 HPUs\n",
      "LOCAL_RANK: 0 - CUDA_VISIBLE_DEVICES: [0,1,2,3]\n",
      "\n",
      "  | Name         | Type       | Params\n",
      "--------------------------------------------\n",
      "0 | encoder_mean | Sequential | 78.5 K\n",
      "1 | encoder_var  | Sequential | 78.5 K\n",
      "2 | decoder      | Sequential | 79.2 K\n",
      "--------------------------------------------\n",
      "236 K     Trainable params\n",
      "0         Non-trainable params\n",
      "236 K     Total params\n",
      "0.945     Total estimated model params size (MB)\n"
     ]
    },
    {
     "data": {
      "application/vnd.jupyter.widget-view+json": {
       "model_id": "ac560b82d19c4befaa16ef9d2ac85db1",
       "version_major": 2,
       "version_minor": 0
      },
      "text/plain": [
       "Training: 0it [00:00, ?it/s]"
      ]
     },
     "metadata": {},
     "output_type": "display_data"
    }
   ],
   "source": [
    "from models import LitVanillaVAE\n",
    "\n",
    "data_module_white = FashionMNISTDataModuleWhite(batch_size=128)\n",
    "model_white = LitVanillaVAE(n_vis=784, n_hid=100, optimizer_name=\"sgd\")\n",
    "trainer = pl.Trainer(\n",
    "    max_epochs=10,\n",
    "    devices=1,\n",
    "    accelerator=\"gpu\",\n",
    "    logger=pl.loggers.TensorBoardLogger(save_dir=f\"../log/playground/white\"),\n",
    ")\n",
    "trainer.fit(model_white, data_module_white)"
   ]
  },
  {
   "cell_type": "code",
   "execution_count": 65,
   "metadata": {},
   "outputs": [
    {
     "name": "stderr",
     "output_type": "stream",
     "text": [
      "GPU available: True, used: True\n",
      "TPU available: False, using: 0 TPU cores\n",
      "IPU available: False, using: 0 IPUs\n",
      "HPU available: False, using: 0 HPUs\n",
      "Missing logger folder: ../log/playground/white/lightning_logs\n",
      "LOCAL_RANK: 0 - CUDA_VISIBLE_DEVICES: [0,1,2,3]\n",
      "\n",
      "  | Name         | Type       | Params\n",
      "--------------------------------------------\n",
      "0 | encoder_mean | Sequential | 78.5 K\n",
      "1 | encoder_var  | Sequential | 78.5 K\n",
      "2 | decoder      | Sequential | 79.2 K\n",
      "--------------------------------------------\n",
      "236 K     Trainable params\n",
      "0         Non-trainable params\n",
      "236 K     Total params\n",
      "0.945     Total estimated model params size (MB)\n"
     ]
    },
    {
     "data": {
      "application/vnd.jupyter.widget-view+json": {
       "model_id": "d89830fe72b94baf8eed3dc50923922d",
       "version_major": 2,
       "version_minor": 0
      },
      "text/plain": [
       "Training: 0it [00:00, ?it/s]"
      ]
     },
     "metadata": {},
     "output_type": "display_data"
    }
   ],
   "source": [
    "from models import LitVanillaVAE\n",
    "\n",
    "data_module = FashionMNISTDataModule(batch_size=128)\n",
    "model = LitVanillaVAE(n_vis=784, n_hid=100, optimizer_name=\"sgd\")\n",
    "trainer = pl.Trainer(\n",
    "    max_epochs=10,\n",
    "    devices=1,\n",
    "    accelerator=\"gpu\",\n",
    "    logger=pl.loggers.TensorBoardLogger(save_dir=f\"../log/playground/white\"),\n",
    ")\n",
    "trainer.fit(model, data_module)"
   ]
  },
  {
   "cell_type": "code",
   "execution_count": 64,
   "metadata": {},
   "outputs": [
    {
     "name": "stdout",
     "output_type": "stream",
     "text": [
      "The tensorboard extension is already loaded. To reload it, use:\n",
      "  %reload_ext tensorboard\n"
     ]
    },
    {
     "data": {
      "text/plain": [
       "Reusing TensorBoard on port 6007 (pid 1259375), started 0:00:04 ago. (Use '!kill 1259375' to kill it.)"
      ]
     },
     "metadata": {},
     "output_type": "display_data"
    },
    {
     "data": {
      "text/html": [
       "\n",
       "      <iframe id=\"tensorboard-frame-15c6ceec10fec230\" width=\"100%\" height=\"800\" frameborder=\"0\">\n",
       "      </iframe>\n",
       "      <script>\n",
       "        (function() {\n",
       "          const frame = document.getElementById(\"tensorboard-frame-15c6ceec10fec230\");\n",
       "          const url = new URL(\"http://localhost\");\n",
       "          const port = 6007;\n",
       "          if (port) {\n",
       "            url.port = port;\n",
       "          }\n",
       "          frame.src = url;\n",
       "        })();\n",
       "      </script>\n",
       "    "
      ],
      "text/plain": [
       "<IPython.core.display.HTML object>"
      ]
     },
     "metadata": {},
     "output_type": "display_data"
    }
   ],
   "source": [
    "%load_ext tensorboard\n",
    "%tensorboard --logdir ../log/playground"
   ]
  }
 ],
 "metadata": {
  "kernelspec": {
   "display_name": "env",
   "language": "python",
   "name": "python3"
  },
  "language_info": {
   "codemirror_mode": {
    "name": "ipython",
    "version": 3
   },
   "file_extension": ".py",
   "mimetype": "text/x-python",
   "name": "python",
   "nbconvert_exporter": "python",
   "pygments_lexer": "ipython3",
   "version": "3.10.4 (main, Jun  5 2022, 17:12:05) [GCC 9.3.0]"
  },
  "orig_nbformat": 4,
  "vscode": {
   "interpreter": {
    "hash": "33f218f2bdd789bab2d918e49cac66043136271105504e147116c8e2d9c05f58"
   }
  }
 },
 "nbformat": 4,
 "nbformat_minor": 2
}
