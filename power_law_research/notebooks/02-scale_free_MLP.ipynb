{
 "cells": [
  {
   "cell_type": "code",
   "execution_count": 61,
   "metadata": {},
   "outputs": [],
   "source": [
    "import sys\n",
    "sys.path.append('/home/shinzato/GitHub/power-law-research/power_law_research')\n",
    "from collections import OrderedDict\n",
    "from datetime import datetime\n",
    "\n",
    "import torch\n",
    "from torch import nn\n",
    "import torch.nn.functional as F\n",
    "import pytorch_lightning as pl\n",
    "from data_modules import FashionMNISTDataModule\n",
    "\n",
    "\n",
    "class ScaleFreeLinear(nn.Linear):\n",
    "    def __init__(self, in_features: int, out_features: int, bias: bool = True,\n",
    "                 device=None, dtype=None) -> None:\n",
    "\n",
    "class LitScaleFreeAutoEncoder(pl.LightningModule):\n",
    "    def __init__(self, n_vis, n_hid=100, optimizer_name=\"sgd\", lr=0.01, power_law_gamma=1):\n",
    "        super().__init__()\n",
    "        self.n_vis = n_vis\n",
    "        self.n_hid = n_hid\n",
    "        self.optimizer_name = optimizer_name\n",
    "        self.lr = lr\n",
    "        self.encoder = nn.Sequential(\n",
    "            OrderedDict(\n",
    "                [\n",
    "                    (\"enc_fc1\", nn.Linear(n_vis, n_hid)),\n",
    "                    (\"enc_relu1\", nn.ReLU()),\n",
    "                ]\n",
    "            )\n",
    "        )\n",
    "        w_decay = torch.tensor([n**(-power_law_gamma) for n in range(1, n_hid + 1)]).expand(n_vis, n_hid).t()\n",
    "        self.encoder.enc_fc1.weight = self.encoder.enc_fc1.weight * w_decay\n",
    "        self.decoder = nn.Sequential(nn.Linear(n_hid, n_vis), nn.Sigmoid())\n",
    "        \n",
    "    def encode(self, v):\n",
    "        return self.encoder(v)\n",
    "    \n",
    "    def decode(self, h):\n",
    "        return self.decoder(h)\n",
    "        \n",
    "    def forward(self, x):\n",
    "        x = self.encode(x)\n",
    "        x = self.decode(x)\n",
    "        return x\n",
    "\n",
    "    def configure_optimizers(self):\n",
    "        if self.optimizer_name == \"sgd\":\n",
    "            optimizer = torch.optim.SGD(self.parameters(), lr=self.lr)\n",
    "        elif self.optimizer_name == \"adam\":\n",
    "            optimizer = torch.optim.Adam(self.parameters(), lr=self.lr)\n",
    "        else:\n",
    "            raise NotImplementedError\n",
    "        return optimizer\n",
    "    \n",
    "    def train_loss(self, tensor):\n",
    "        batch = tensor.size(0)\n",
    "        x = tensor.view(batch, -1)\n",
    "        recon = self.forward(x)\n",
    "        return F.mse_loss(x, recon)\n",
    "    \n",
    "    def training_step(self, batch, batch_idx):\n",
    "        tensor, label = batch\n",
    "        loss = self.train_loss(tensor)\n",
    "        self.log(\"train_loss\", loss)\n",
    "        return loss\n",
    "    "
   ]
  },
  {
   "cell_type": "code",
   "execution_count": 62,
   "metadata": {},
   "outputs": [
    {
     "name": "stdout",
     "output_type": "stream",
     "text": [
      "data torch.Size([128, 1, 28, 28])\n",
      "batch 128\n",
      "x torch.Size([128, 784])\n"
     ]
    },
    {
     "ename": "TypeError",
     "evalue": "cannot assign 'torch.FloatTensor' as parameter 'weight' (torch.nn.Parameter or None expected)",
     "output_type": "error",
     "traceback": [
      "\u001b[0;31m---------------------------------------------------------------------------\u001b[0m",
      "\u001b[0;31mTypeError\u001b[0m                                 Traceback (most recent call last)",
      "\u001b[1;32mセル2 を /home/shinzato/GitHub/power-law-research/power_law_research/notebooks/02-scale_free_MLP.ipynb\u001b[0m in \u001b[0;36m<cell line: 9>\u001b[0;34m()\u001b[0m\n\u001b[1;32m      <a href='vscode-notebook-cell://ssh-remote%2Bremote-euler/home/shinzato/GitHub/power-law-research/power_law_research/notebooks/02-scale_free_MLP.ipynb#ch0000003vscode-remote?line=5'>6</a>\u001b[0m     \u001b[39mprint\u001b[39m(\u001b[39m\"\u001b[39m\u001b[39mx\u001b[39m\u001b[39m\"\u001b[39m, data\u001b[39m.\u001b[39mview(data\u001b[39m.\u001b[39msize(\u001b[39m0\u001b[39m), \u001b[39m-\u001b[39m\u001b[39m1\u001b[39m)\u001b[39m.\u001b[39mshape)\n\u001b[1;32m      <a href='vscode-notebook-cell://ssh-remote%2Bremote-euler/home/shinzato/GitHub/power-law-research/power_law_research/notebooks/02-scale_free_MLP.ipynb#ch0000003vscode-remote?line=6'>7</a>\u001b[0m     \u001b[39mbreak\u001b[39;00m\n\u001b[0;32m----> <a href='vscode-notebook-cell://ssh-remote%2Bremote-euler/home/shinzato/GitHub/power-law-research/power_law_research/notebooks/02-scale_free_MLP.ipynb#ch0000003vscode-remote?line=8'>9</a>\u001b[0m model \u001b[39m=\u001b[39m LitScaleFreeAutoEncoder(n_vis\u001b[39m=\u001b[39;49m\u001b[39m784\u001b[39;49m, n_hid\u001b[39m=\u001b[39;49m\u001b[39m100\u001b[39;49m)\n\u001b[1;32m     <a href='vscode-notebook-cell://ssh-remote%2Bremote-euler/home/shinzato/GitHub/power-law-research/power_law_research/notebooks/02-scale_free_MLP.ipynb#ch0000003vscode-remote?line=9'>10</a>\u001b[0m model\u001b[39m.\u001b[39mencoder\u001b[39m.\u001b[39menc_fc1\u001b[39m.\u001b[39mweight\u001b[39m.\u001b[39mshape\n",
      "\u001b[1;32mセル2 を /home/shinzato/GitHub/power-law-research/power_law_research/notebooks/02-scale_free_MLP.ipynb\u001b[0m in \u001b[0;36mLitScaleFreeAutoEncoder.__init__\u001b[0;34m(self, n_vis, n_hid, optimizer_name, lr, power_law_gamma)\u001b[0m\n\u001b[1;32m     <a href='vscode-notebook-cell://ssh-remote%2Bremote-euler/home/shinzato/GitHub/power-law-research/power_law_research/notebooks/02-scale_free_MLP.ipynb#ch0000003vscode-remote?line=20'>21</a>\u001b[0m \u001b[39mself\u001b[39m\u001b[39m.\u001b[39mencoder \u001b[39m=\u001b[39m nn\u001b[39m.\u001b[39mSequential(\n\u001b[1;32m     <a href='vscode-notebook-cell://ssh-remote%2Bremote-euler/home/shinzato/GitHub/power-law-research/power_law_research/notebooks/02-scale_free_MLP.ipynb#ch0000003vscode-remote?line=21'>22</a>\u001b[0m     OrderedDict(\n\u001b[1;32m     <a href='vscode-notebook-cell://ssh-remote%2Bremote-euler/home/shinzato/GitHub/power-law-research/power_law_research/notebooks/02-scale_free_MLP.ipynb#ch0000003vscode-remote?line=22'>23</a>\u001b[0m         [\n\u001b[0;32m   (...)\u001b[0m\n\u001b[1;32m     <a href='vscode-notebook-cell://ssh-remote%2Bremote-euler/home/shinzato/GitHub/power-law-research/power_law_research/notebooks/02-scale_free_MLP.ipynb#ch0000003vscode-remote?line=26'>27</a>\u001b[0m     )\n\u001b[1;32m     <a href='vscode-notebook-cell://ssh-remote%2Bremote-euler/home/shinzato/GitHub/power-law-research/power_law_research/notebooks/02-scale_free_MLP.ipynb#ch0000003vscode-remote?line=27'>28</a>\u001b[0m )\n\u001b[1;32m     <a href='vscode-notebook-cell://ssh-remote%2Bremote-euler/home/shinzato/GitHub/power-law-research/power_law_research/notebooks/02-scale_free_MLP.ipynb#ch0000003vscode-remote?line=28'>29</a>\u001b[0m w_decay \u001b[39m=\u001b[39m torch\u001b[39m.\u001b[39mtensor([n\u001b[39m*\u001b[39m\u001b[39m*\u001b[39m(\u001b[39m-\u001b[39mpower_law_gamma) \u001b[39mfor\u001b[39;00m n \u001b[39min\u001b[39;00m \u001b[39mrange\u001b[39m(\u001b[39m1\u001b[39m, n_hid \u001b[39m+\u001b[39m \u001b[39m1\u001b[39m)])\u001b[39m.\u001b[39mexpand(n_vis, n_hid)\u001b[39m.\u001b[39mt()\n\u001b[0;32m---> <a href='vscode-notebook-cell://ssh-remote%2Bremote-euler/home/shinzato/GitHub/power-law-research/power_law_research/notebooks/02-scale_free_MLP.ipynb#ch0000003vscode-remote?line=29'>30</a>\u001b[0m \u001b[39mself\u001b[39m\u001b[39m.\u001b[39mencoder\u001b[39m.\u001b[39menc_fc1\u001b[39m.\u001b[39mweight \u001b[39m=\u001b[39m \u001b[39mself\u001b[39m\u001b[39m.\u001b[39mencoder\u001b[39m.\u001b[39menc_fc1\u001b[39m.\u001b[39mweight \u001b[39m*\u001b[39m w_decay\n\u001b[1;32m     <a href='vscode-notebook-cell://ssh-remote%2Bremote-euler/home/shinzato/GitHub/power-law-research/power_law_research/notebooks/02-scale_free_MLP.ipynb#ch0000003vscode-remote?line=30'>31</a>\u001b[0m \u001b[39mself\u001b[39m\u001b[39m.\u001b[39mdecoder \u001b[39m=\u001b[39m nn\u001b[39m.\u001b[39mSequential(nn\u001b[39m.\u001b[39mLinear(n_hid, n_vis), nn\u001b[39m.\u001b[39mSigmoid())\n",
      "File \u001b[0;32m~/GitHub/power-law-research/.venv/lib/python3.8/site-packages/torch/nn/modules/module.py:1228\u001b[0m, in \u001b[0;36mModule.__setattr__\u001b[0;34m(self, name, value)\u001b[0m\n\u001b[1;32m   1226\u001b[0m \u001b[39melif\u001b[39;00m params \u001b[39mis\u001b[39;00m \u001b[39mnot\u001b[39;00m \u001b[39mNone\u001b[39;00m \u001b[39mand\u001b[39;00m name \u001b[39min\u001b[39;00m params:\n\u001b[1;32m   1227\u001b[0m     \u001b[39mif\u001b[39;00m value \u001b[39mis\u001b[39;00m \u001b[39mnot\u001b[39;00m \u001b[39mNone\u001b[39;00m:\n\u001b[0;32m-> 1228\u001b[0m         \u001b[39mraise\u001b[39;00m \u001b[39mTypeError\u001b[39;00m(\u001b[39m\"\u001b[39m\u001b[39mcannot assign \u001b[39m\u001b[39m'\u001b[39m\u001b[39m{}\u001b[39;00m\u001b[39m'\u001b[39m\u001b[39m as parameter \u001b[39m\u001b[39m'\u001b[39m\u001b[39m{}\u001b[39;00m\u001b[39m'\u001b[39m\u001b[39m \u001b[39m\u001b[39m\"\u001b[39m\n\u001b[1;32m   1229\u001b[0m                         \u001b[39m\"\u001b[39m\u001b[39m(torch.nn.Parameter or None expected)\u001b[39m\u001b[39m\"\u001b[39m\n\u001b[1;32m   1230\u001b[0m                         \u001b[39m.\u001b[39mformat(torch\u001b[39m.\u001b[39mtypename(value), name))\n\u001b[1;32m   1231\u001b[0m     \u001b[39mself\u001b[39m\u001b[39m.\u001b[39mregister_parameter(name, value)\n\u001b[1;32m   1232\u001b[0m \u001b[39melse\u001b[39;00m:\n",
      "\u001b[0;31mTypeError\u001b[0m: cannot assign 'torch.FloatTensor' as parameter 'weight' (torch.nn.Parameter or None expected)"
     ]
    }
   ],
   "source": [
    "data_module = FashionMNISTDataModule(batch_size=128)\n",
    "data_module.setup()\n",
    "for data, label in data_module.train_dataloader():\n",
    "    print(\"data\", data.shape)\n",
    "    print(\"batch\", data.size(0))\n",
    "    print(\"x\", data.view(data.size(0), -1).shape)\n",
    "    break\n",
    "\n",
    "model = LitScaleFreeAutoEncoder(n_vis=784, n_hid=100)\n",
    "model.encoder.enc_fc1.weight.shape"
   ]
  },
  {
   "cell_type": "code",
   "execution_count": 60,
   "metadata": {},
   "outputs": [
    {
     "name": "stdout",
     "output_type": "stream",
     "text": [
      "torch.Size([784, 100])\n",
      "w torch.Size([100, 784])\n"
     ]
    }
   ],
   "source": [
    "power_law_gamma = 1\n",
    "n_vis = 784\n",
    "n_hid = 100\n",
    "w_decay = torch.tensor([n**(-power_law_gamma) for n in range(1, n_hid + 1)]).expand(n_vis, n_hid)\n",
    "print(w_decay.shape)\n",
    "w_decay.t()\n",
    "\n",
    "encoder = nn.Linear(n_vis, n_hid)\n",
    "print(\"w\", encoder.weight.shape)"
   ]
  },
  {
   "cell_type": "code",
   "execution_count": 58,
   "metadata": {},
   "outputs": [
    {
     "ename": "RuntimeError",
     "evalue": "The size of tensor a (784) must match the size of tensor b (1000) at non-singleton dimension 1",
     "output_type": "error",
     "traceback": [
      "\u001b[0;31m---------------------------------------------------------------------------\u001b[0m",
      "\u001b[0;31mRuntimeError\u001b[0m                              Traceback (most recent call last)",
      "\u001b[1;32mセル4 を /home/shinzato/GitHub/power-law-research/power_law_research/notebooks/02-scale_free_MLP.ipynb\u001b[0m in \u001b[0;36m<cell line: 5>\u001b[0;34m()\u001b[0m\n\u001b[1;32m      <a href='vscode-notebook-cell://ssh-remote%2Bremote-euler/home/shinzato/GitHub/power-law-research/power_law_research/notebooks/02-scale_free_MLP.ipynb#ch0000001vscode-remote?line=1'>2</a>\u001b[0m \u001b[39mfrom\u001b[39;00m \u001b[39mdata_modules\u001b[39;00m \u001b[39mimport\u001b[39;00m FashionMNISTDataModule\n\u001b[1;32m      <a href='vscode-notebook-cell://ssh-remote%2Bremote-euler/home/shinzato/GitHub/power-law-research/power_law_research/notebooks/02-scale_free_MLP.ipynb#ch0000001vscode-remote?line=3'>4</a>\u001b[0m logger \u001b[39m=\u001b[39m pl\u001b[39m.\u001b[39mloggers\u001b[39m.\u001b[39mTensorBoardLogger(save_dir\u001b[39m=\u001b[39m\u001b[39mf\u001b[39m\u001b[39m\"\u001b[39m\u001b[39m../log/\u001b[39m\u001b[39m{\u001b[39;00m\u001b[39mstr\u001b[39m(datetime\u001b[39m.\u001b[39mnow())\u001b[39m}\u001b[39;00m\u001b[39m_autoencoder\u001b[39m\u001b[39m\"\u001b[39m)\n\u001b[0;32m----> <a href='vscode-notebook-cell://ssh-remote%2Bremote-euler/home/shinzato/GitHub/power-law-research/power_law_research/notebooks/02-scale_free_MLP.ipynb#ch0000001vscode-remote?line=4'>5</a>\u001b[0m model \u001b[39m=\u001b[39m LitScaleFreeAutoEncoder(n_vis\u001b[39m=\u001b[39;49m\u001b[39m784\u001b[39;49m, n_hid\u001b[39m=\u001b[39;49m\u001b[39m1000\u001b[39;49m)\n\u001b[1;32m      <a href='vscode-notebook-cell://ssh-remote%2Bremote-euler/home/shinzato/GitHub/power-law-research/power_law_research/notebooks/02-scale_free_MLP.ipynb#ch0000001vscode-remote?line=5'>6</a>\u001b[0m data_module \u001b[39m=\u001b[39m FashionMNISTDataModule(batch_size\u001b[39m=\u001b[39m\u001b[39m128\u001b[39m)\n\u001b[1;32m      <a href='vscode-notebook-cell://ssh-remote%2Bremote-euler/home/shinzato/GitHub/power-law-research/power_law_research/notebooks/02-scale_free_MLP.ipynb#ch0000001vscode-remote?line=6'>7</a>\u001b[0m trainer \u001b[39m=\u001b[39m pl\u001b[39m.\u001b[39mTrainer(max_epochs\u001b[39m=\u001b[39m\u001b[39m10\u001b[39m, devices\u001b[39m=\u001b[39m\u001b[39m1\u001b[39m, accelerator\u001b[39m=\u001b[39m\u001b[39m\"\u001b[39m\u001b[39mgpu\u001b[39m\u001b[39m\"\u001b[39m, logger\u001b[39m=\u001b[39mlogger)\n",
      "\u001b[1;32mセル4 を /home/shinzato/GitHub/power-law-research/power_law_research/notebooks/02-scale_free_MLP.ipynb\u001b[0m in \u001b[0;36mLitScaleFreeAutoEncoder.__init__\u001b[0;34m(self, n_vis, n_hid, optimizer_name, lr, power_law_gamma)\u001b[0m\n\u001b[1;32m     <a href='vscode-notebook-cell://ssh-remote%2Bremote-euler/home/shinzato/GitHub/power-law-research/power_law_research/notebooks/02-scale_free_MLP.ipynb#ch0000001vscode-remote?line=20'>21</a>\u001b[0m \u001b[39mself\u001b[39m\u001b[39m.\u001b[39mencoder \u001b[39m=\u001b[39m nn\u001b[39m.\u001b[39mSequential(\n\u001b[1;32m     <a href='vscode-notebook-cell://ssh-remote%2Bremote-euler/home/shinzato/GitHub/power-law-research/power_law_research/notebooks/02-scale_free_MLP.ipynb#ch0000001vscode-remote?line=21'>22</a>\u001b[0m     OrderedDict(\n\u001b[1;32m     <a href='vscode-notebook-cell://ssh-remote%2Bremote-euler/home/shinzato/GitHub/power-law-research/power_law_research/notebooks/02-scale_free_MLP.ipynb#ch0000001vscode-remote?line=22'>23</a>\u001b[0m         [\n\u001b[0;32m   (...)\u001b[0m\n\u001b[1;32m     <a href='vscode-notebook-cell://ssh-remote%2Bremote-euler/home/shinzato/GitHub/power-law-research/power_law_research/notebooks/02-scale_free_MLP.ipynb#ch0000001vscode-remote?line=26'>27</a>\u001b[0m     )\n\u001b[1;32m     <a href='vscode-notebook-cell://ssh-remote%2Bremote-euler/home/shinzato/GitHub/power-law-research/power_law_research/notebooks/02-scale_free_MLP.ipynb#ch0000001vscode-remote?line=27'>28</a>\u001b[0m )\n\u001b[1;32m     <a href='vscode-notebook-cell://ssh-remote%2Bremote-euler/home/shinzato/GitHub/power-law-research/power_law_research/notebooks/02-scale_free_MLP.ipynb#ch0000001vscode-remote?line=28'>29</a>\u001b[0m w_decay \u001b[39m=\u001b[39m torch\u001b[39m.\u001b[39mtensor([n\u001b[39m*\u001b[39m\u001b[39m*\u001b[39m(\u001b[39m-\u001b[39mpower_law_gamma) \u001b[39mfor\u001b[39;00m n \u001b[39min\u001b[39;00m \u001b[39mrange\u001b[39m(\u001b[39m1\u001b[39m, n_hid \u001b[39m+\u001b[39m \u001b[39m1\u001b[39m)])\u001b[39m.\u001b[39mexpand(n_vis, n_hid)\n\u001b[0;32m---> <a href='vscode-notebook-cell://ssh-remote%2Bremote-euler/home/shinzato/GitHub/power-law-research/power_law_research/notebooks/02-scale_free_MLP.ipynb#ch0000001vscode-remote?line=29'>30</a>\u001b[0m \u001b[39mself\u001b[39m\u001b[39m.\u001b[39mencoder\u001b[39m.\u001b[39menc_fc1\u001b[39m.\u001b[39mweight \u001b[39m=\u001b[39m \u001b[39mself\u001b[39;49m\u001b[39m.\u001b[39;49mencoder\u001b[39m.\u001b[39;49menc_fc1\u001b[39m.\u001b[39;49mweight \u001b[39m*\u001b[39;49m w_decay\n\u001b[1;32m     <a href='vscode-notebook-cell://ssh-remote%2Bremote-euler/home/shinzato/GitHub/power-law-research/power_law_research/notebooks/02-scale_free_MLP.ipynb#ch0000001vscode-remote?line=30'>31</a>\u001b[0m \u001b[39mself\u001b[39m\u001b[39m.\u001b[39mdecoder \u001b[39m=\u001b[39m nn\u001b[39m.\u001b[39mSequential(nn\u001b[39m.\u001b[39mLinear(n_hid, n_vis), nn\u001b[39m.\u001b[39mSigmoid())\n",
      "\u001b[0;31mRuntimeError\u001b[0m: The size of tensor a (784) must match the size of tensor b (1000) at non-singleton dimension 1"
     ]
    }
   ],
   "source": [
    "from datetime import datetime\n",
    "from data_modules import FashionMNISTDataModule\n",
    "\n",
    "logger = pl.loggers.TensorBoardLogger(save_dir=f\"../log/{str(datetime.now())}_autoencoder\")\n",
    "model = LitScaleFreeAutoEncoder(n_vis=784, n_hid=1000)\n",
    "data_module = FashionMNISTDataModule(batch_size=128)\n",
    "trainer = pl.Trainer(max_epochs=10, devices=1, accelerator=\"gpu\", logger=logger)\n",
    "trainer.fit(model, data_module)"
   ]
  },
  {
   "cell_type": "code",
   "execution_count": 19,
   "metadata": {},
   "outputs": [
    {
     "data": {
      "text/plain": [
       "[<matplotlib.lines.Line2D at 0x7fc307c32e80>]"
      ]
     },
     "execution_count": 19,
     "metadata": {},
     "output_type": "execute_result"
    },
    {
     "data": {
      "image/png": "[encoded data removed]",
      "text/plain": [
       "<Figure size 720x720 with 1 Axes>"
      ]
     },
     "metadata": {
      "needs_background": "light"
     },
     "output_type": "display_data"
    }
   ],
   "source": [
    "import numpy as np\n",
    "from utils import sample_neuron_firings, pca_variance\n",
    "import matplotlib.pyplot as plt\n",
    "\n",
    "firings = sample_neuron_firings(model, data_module.train_dataloader())\n",
    "pc_dim, pc_var = pca_variance(firings)\n",
    "log_pc_dim, log_var = np.log(pc_dim), np.log(pc_var)\n",
    "\n",
    "\n",
    "\n",
    "fig, ax = plt.subplots(figsize=(10, 10))\n",
    "ax.grid()\n",
    "ax.set_xscale(\"log\")\n",
    "ax.set_yscale(\"log\")\n",
    "ax.plot(pc_dim, pc_var, \".-\")"
   ]
  }
 ],
 "metadata": {
  "kernelspec": {
   "display_name": "Python 3.8.2 ('.venv': venv)",
   "language": "python",
   "name": "python3"
  },
  "language_info": {
   "codemirror_mode": {
    "name": "ipython",
    "version": 3
   },
   "file_extension": ".py",
   "mimetype": "text/x-python",
   "name": "python",
   "nbconvert_exporter": "python",
   "pygments_lexer": "ipython3",
   "version": "3.8.2"
  },
  "orig_nbformat": 4,
  "vscode": {
   "interpreter": {
    "hash": "152da3755772546cb2c79f22e52c32d9498377dc1ec32a226f2ae1ea596aeee0"
   }
  }
 },
 "nbformat": 4,
 "nbformat_minor": 2
}
